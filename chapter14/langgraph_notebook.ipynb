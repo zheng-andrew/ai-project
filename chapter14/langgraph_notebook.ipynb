{
 "cells": [
  {
   "cell_type": "markdown",
   "id": "0dd7cc5f",
   "metadata": {},
   "source": [
    "# LangGraph Agent\n",
    "## Without tools"
   ]
  },
  {
   "cell_type": "markdown",
   "id": "7ccb297b",
   "metadata": {},
   "source": [
    "## Library imports"
   ]
  },
  {
   "cell_type": "code",
   "execution_count": 39,
   "id": "3b1bf27d",
   "metadata": {},
   "outputs": [],
   "source": [
    "from langchain_core.messages import HumanMessage \n",
    "from langchain_anthropic import ChatAnthropic \n",
    "from langgraph.checkpoint.memory import MemorySaver \n",
    "from langgraph.graph import END, START, StateGraph, MessagesState\n",
    "import logging\n",
    "from IPython.display import Image, Markdown, display \n",
    "from langchain_core.runnables.graph import CurveStyle, MermaidDrawMethod, NodeStyles \n"
   ]
  },
  {
   "cell_type": "markdown",
   "id": "3837aac6",
   "metadata": {},
   "source": [
    "## Configure logging"
   ]
  },
  {
   "cell_type": "code",
   "execution_count": 40,
   "id": "ab06882c",
   "metadata": {},
   "outputs": [],
   "source": [
    "for handler in logging.root.handlers[:]:\n",
    "    logging.root.removeHandler(handler)\n",
    "\n",
    "logging.basicConfig(\n",
    "    filename= \"langgraph_notebook.log\",\n",
    "    level= logging.INFO,\n",
    ")"
   ]
  },
  {
   "cell_type": "markdown",
   "id": "91a5f407",
   "metadata": {},
   "source": [
    "## Configure agent and model"
   ]
  },
  {
   "cell_type": "code",
   "execution_count": 41,
   "id": "d91cb33e",
   "metadata": {},
   "outputs": [],
   "source": [
    "model = ChatAnthropic(model = \"claude-sonnet-4-5-20250929\", temperature= 0)\n",
    "\n",
    "def call_model(state: MessagesState):\n",
    "    messages = state[\"messages\"]\n",
    "    response = model.invoke(messages)\n",
    "    return {\"messages\":[response]}\n",
    "\n",
    "workflow = StateGraph(MessagesState)\n",
    "\n",
    "workflow.add_node(\"agent\", call_model)\n",
    "\n",
    "workflow.add_edge(START, \"agent\")\n",
    "\n",
    "checkpointer = MemorySaver()\n",
    "\n",
    "app = workflow.compile(checkpointer = checkpointer)\n"
   ]
  },
  {
   "cell_type": "markdown",
   "id": "abd8acea",
   "metadata": {},
   "source": [
    "## Visualize the graph"
   ]
  },
  {
   "cell_type": "code",
   "execution_count": 42,
   "id": "a0071580",
   "metadata": {},
   "outputs": [
    {
     "data": {
      "image/png": "[encoded data removed]",
      "text/plain": [
       "<IPython.core.display.Image object>"
      ]
     },
     "metadata": {},
     "output_type": "display_data"
    }
   ],
   "source": [
    "display(\n",
    "    Image(\n",
    "        app.get_graph().draw_mermaid_png(\n",
    "            draw_method=MermaidDrawMethod.API,\n",
    "        )\n",
    "    )\n",
    ")"
   ]
  },
  {
   "cell_type": "markdown",
   "id": "35eaf15f",
   "metadata": {},
   "source": [
    "## Chat with the agent\n"
   ]
  },
  {
   "cell_type": "code",
   "execution_count": 43,
   "id": "a18bdfc8",
   "metadata": {},
   "outputs": [
    {
     "data": {
      "text/markdown": [
       "Joe Montana played for two teams during his NFL career:\n",
       "\n",
       "1. **San Francisco 49ers** (1979-1992) - where he won four Super Bowl championships and became a legend\n",
       "\n",
       "2. **Kansas City Chiefs** (1993-1994) - where he played his final two seasons before retiring\n",
       "\n",
       "He is most famously associated with the 49ers, where he earned the nickname \"Joe Cool\" and is considered one of the greatest quarterbacks in NFL history."
      ],
      "text/plain": [
       "<IPython.core.display.Markdown object>"
      ]
     },
     "metadata": {},
     "output_type": "display_data"
    }
   ],
   "source": [
    "final_state = app.invoke(\n",
    "    {\"messages\": [HumanMessage(content=\"What teams did Joe Montana play for?\")]},\n",
    "    config={\"configurable\": {\"thread_id\": 99}}\n",
    ")\n",
    "display(Markdown(final_state[\"messages\"][-1].content))"
   ]
  },
  {
   "cell_type": "code",
   "execution_count": 44,
   "id": "774b9ec2",
   "metadata": {},
   "outputs": [
    {
     "data": {
      "text/markdown": [
       "I don't have any information about SportWorldCentral or its fantasy football leagues. This appears to be a specific fantasy football platform that I'm not familiar with.\n",
       "\n",
       "If you're looking for information about leagues on SportWorldCentral, I'd recommend:\n",
       "\n",
       "1. Visiting their official website directly\n",
       "2. Checking their help/FAQ section\n",
       "3. Contacting their customer support\n",
       "4. Looking for their social media pages or community forums\n",
       "\n",
       "Is there anything else about fantasy football in general that I could help you with?"
      ],
      "text/plain": [
       "<IPython.core.display.Markdown object>"
      ]
     },
     "metadata": {},
     "output_type": "display_data"
    }
   ],
   "source": [
    "final_state = app.invoke(\n",
    "    {\"messages\": [HumanMessage(content = \"What are the leagues in the SportWorldCentral fantasy football platform?\")]},\n",
    "    config = {\"configurable\": {\"thread_id\":99}}\n",
    ")\n",
    "display(Markdown(final_state[\"messages\"][-1].content))"
   ]
  }
 ],
 "metadata": {
  "kernelspec": {
   "display_name": "Python 3",
   "language": "python",
   "name": "python3"
  },
  "language_info": {
   "codemirror_mode": {
    "name": "ipython",
    "version": 3
   },
   "file_extension": ".py",
   "mimetype": "text/x-python",
   "name": "python",
   "nbconvert_exporter": "python",
   "pygments_lexer": "ipython3",
   "version": "3.12.1"
  }
 },
 "nbformat": 4,
 "nbformat_minor": 5
}
